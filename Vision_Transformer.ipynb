{
 "cells": [
  {
   "cell_type": "code",
   "execution_count": 1,
   "id": "ae1964cd-36bd-456c-912d-14a28244f03f",
   "metadata": {},
   "outputs": [],
   "source": [
    "import warnings\n",
    "warnings.filterwarnings(\"ignore\")"
   ]
  },
  {
   "cell_type": "code",
   "execution_count": 3,
   "id": "6847e68b-51ce-4fa5-ab3c-4eedb18b86b7",
   "metadata": {},
   "outputs": [],
   "source": [
    "import numpy as np\n",
    "import tensorflow as tf\n",
    "from tensorflow.keras import layers"
   ]
  },
  {
   "cell_type": "code",
   "execution_count": 5,
   "id": "b7dfb713-aeda-47f9-9394-39c36f0b1d0b",
   "metadata": {},
   "outputs": [],
   "source": [
    "(x_train,y_train),(x_test,y_test) = tf.keras.datasets.cifar10.load_data()"
   ]
  },
  {
   "cell_type": "code",
   "execution_count": 7,
   "id": "07606fe1-6924-4bad-ba87-2d6d65e76a39",
   "metadata": {},
   "outputs": [
    {
     "data": {
      "text/plain": [
       "(50000, 32, 32, 3)"
      ]
     },
     "execution_count": 7,
     "metadata": {},
     "output_type": "execute_result"
    }
   ],
   "source": [
    "x_train.shape"
   ]
  },
  {
   "cell_type": "markdown",
   "id": "ca4fe8fb-19f5-4a82-ad92-fb48e8ea0ec3",
   "metadata": {},
   "source": [
    "### Hyper Parameters"
   ]
  },
  {
   "cell_type": "code",
   "execution_count": 9,
   "id": "d1710643-20e8-4eba-900a-dc7e5740cead",
   "metadata": {},
   "outputs": [],
   "source": [
    "input_shape = (32,32,3)\n",
    "num_classes = 10\n",
    "batch_size = 64\n",
    "num_epochs = 5\n",
    "img_size = 72\n",
    "patch_size = 6\n",
    "num_patches = (img_size//patch_size)**2\n",
    "learning_rate = 0.001\n",
    "weight_decay = 0.0001\n",
    "projection_dimensions = 64\n",
    "num_heads = 4\n",
    "transformer_units = [projection_dimensions*2,projection_dimensions]\n",
    "transformer_layers = 8\n",
    "mlp_head_unit = [2048,1024]\n",
    "\n"
   ]
  },
  {
   "cell_type": "code",
   "execution_count": 11,
   "id": "6cd5a04a-48bb-49cb-923d-c32b3f953ff6",
   "metadata": {},
   "outputs": [],
   "source": [
    "class Patches(layers.Layer):\n",
    "    def __init__(self, patch_size):\n",
    "        super(Patches, self).__init__()\n",
    "        self.patch_size = patch_size\n",
    "\n",
    "    def call(self, images):\n",
    "        batch_size = tf.shape(images)[0]\n",
    "        patches = tf.image.extract_patches(\n",
    "            images=images,\n",
    "            sizes = [1,self.patch_size,self.patch_size,1],\n",
    "            strides = [1,self.patch_size,self.patch_size,1],\n",
    "            rates = [1,1,1,1],\n",
    "            padding = 'VALID',\n",
    "        )\n",
    "        patch_dims = patches.shape[-1]\n",
    "        patches = tf.reshape(patches,[batch_size,-1,patch_dims])\n",
    "        return patches\n",
    "       \n"
   ]
  },
  {
   "cell_type": "code",
   "execution_count": 13,
   "id": "7627fbdd-b0f8-4fd2-b62b-1408bc651770",
   "metadata": {},
   "outputs": [],
   "source": [
    "class Patchencoder(layers.Layer):\n",
    "    def __init__(self, num_patches, projection_dimensions):\n",
    "        super(Patchencoder, self).__init__()\n",
    "        self.num_patches = num_patches\n",
    "        self.projection = layers.Dense(units=projection_dimensions)\n",
    "        self.position_embedding = layers.Embedding(input_dim=num_patches, output_dim=projection_dimensions)\n",
    "\n",
    "    def call(self, patch):\n",
    "        positions = tf.range(start=0, limit=self.num_patches, delta=1)\n",
    "        encoded = self.projection(patch) + self.position_embedding(positions)\n",
    "        return encoded"
   ]
  },
  {
   "cell_type": "code",
   "execution_count": 15,
   "id": "dc2a5c67-349f-4f9f-91ab-15e1209488c6",
   "metadata": {},
   "outputs": [
    {
     "data": {
      "image/png": "[encoded data removed]",
      "text/plain": [
       "<Figure size 600x600 with 1 Axes>"
      ]
     },
     "metadata": {},
     "output_type": "display_data"
    },
    {
     "data": {
      "image/png": "[encoded data removed]",
      "text/plain": [
       "<Figure size 600x600 with 144 Axes>"
      ]
     },
     "metadata": {},
     "output_type": "display_data"
    }
   ],
   "source": [
    "import matplotlib.pyplot as plt\n",
    "plt.figure(figsize=(6,6))\n",
    "image = x_train[np.random.choice(x_train.shape[0])]\n",
    "plt.imshow(image.astype('uint8'))\n",
    "plt.axis('off')\n",
    "\n",
    "\n",
    "resized_img  = tf.image.resize(tf.convert_to_tensor([image]),size=(img_size,img_size))\n",
    "patches = Patches(patch_size)(resized_img)\n",
    "\n",
    "n= int(np.sqrt(patches.shape[1]))\n",
    "plt.figure(figsize=(6,6))\n",
    "for i,patch in enumerate(patches[0]):\n",
    "    ax = plt.subplot(n,n,i+1)\n",
    "    patch_img = tf.reshape(patch,(patch_size,patch_size,3))\n",
    "    plt.imshow(patch_img.numpy().astype('uint8'))\n",
    "    plt.axis('off')\n",
    "    "
   ]
  },
  {
   "cell_type": "markdown",
   "id": "9daf90a7-eb1a-43ca-b49d-db3003632477",
   "metadata": {},
   "source": [
    "### Data Augmentation"
   ]
  },
  {
   "cell_type": "code",
   "execution_count": 17,
   "id": "a7723979-d290-4613-8952-7de0d0f972b8",
   "metadata": {},
   "outputs": [],
   "source": [
    "data_aug = tf.keras.Sequential([\n",
    "    layers.Normalization(),\n",
    "    layers.Resizing(img_size,img_size),\n",
    "    layers.RandomFlip(\"horizontal\"),\n",
    "    layers.RandomRotation(factor=0.02),\n",
    "    layers.RandomZoom(height_factor=0.2,width_factor=0.2)\n",
    "],name='data_aug')\n",
    "data_aug.layers[0].adapt(x_train)"
   ]
  },
  {
   "cell_type": "markdown",
   "id": "2f529f7f-dd8e-4242-98ac-e7da971b904d",
   "metadata": {},
   "source": [
    "### MLP Block"
   ]
  },
  {
   "cell_type": "code",
   "execution_count": 19,
   "id": "c4eb39cd-3d03-4e08-84a2-bfcd22111722",
   "metadata": {},
   "outputs": [],
   "source": [
    "def mlp(x,hidden_units,dropout_rate):\n",
    "    for units in hidden_units:\n",
    "        x = layers.Dense(units,activation=tf.nn.gelu)(x)\n",
    "        x = layers.Dropout(dropout_rate)(x)\n",
    "    return x"
   ]
  },
  {
   "cell_type": "code",
   "execution_count": 21,
   "id": "669066ae-3c6b-417e-9ebb-2b27fc256d70",
   "metadata": {},
   "outputs": [],
   "source": [
    "def ViT_classifier():\n",
    "    inputs = layers.Input(shape=input_shape)\n",
    "    augmented = data_aug(inputs)\n",
    "    patches = Patches(patch_size)(augmented)\n",
    "    encoded_patches = Patchencoder(num_patches, projection_dimensions)(patches)\n",
    "\n",
    "    for _ in range(transformer_layers):\n",
    "        x1 = layers.LayerNormalization(epsilon=1e-6)(encoded_patches)\n",
    "        att_output = layers.MultiHeadAttention(num_heads=num_heads, key_dim=projection_dimensions, dropout=0.1)(x1, x1)\n",
    "        x2 = layers.Add()([att_output, encoded_patches])\n",
    "        x3 = layers.LayerNormalization(epsilon=1e-2)(x2)\n",
    "        x4 = mlp(x3, hidden_units=transformer_units, dropout_rate=0.1)\n",
    "        encoded_patches = layers.Add()([x3, x4])\n",
    "\n",
    "    representation = layers.LayerNormalization(epsilon=1e-6)(encoded_patches)\n",
    "    representation = layers.Flatten()(representation)\n",
    "    representation = layers.Dropout(0.5)(representation)\n",
    "    features = mlp(representation, hidden_units=mlp_head_unit, dropout_rate=0.5)\n",
    "    logits = layers.Dense(num_classes)(features)\n",
    "\n",
    "    model = tf.keras.Model(inputs=inputs, outputs=logits)\n",
    "    \n",
    "    return model"
   ]
  },
  {
   "cell_type": "code",
   "execution_count": 23,
   "id": "abc4413a-6c45-4857-908c-bae97357c4d5",
   "metadata": {},
   "outputs": [],
   "source": [
    "import tensorflow as tf\n",
    "\n",
    "def run_program(model):\n",
    "    # Using TensorFlow's Adam optimizer\n",
    "    optimizer = tf.keras.optimizers.Adam(learning_rate=learning_rate)\n",
    "\n",
    "    # Manually adding weight decay to the loss function\n",
    "    def add_weight_decay_loss(loss):\n",
    "        weight_decay_loss = tf.add_n([tf.nn.l2_loss(v) for v in model.trainable_variables])\n",
    "        return loss + weight_decay * weight_decay_loss\n",
    "\n",
    "    # Compile the model using a custom loss function\n",
    "    model.compile(\n",
    "        optimizer=optimizer,\n",
    "        loss=lambda y_true, y_pred: add_weight_decay_loss(\n",
    "            tf.keras.losses.sparse_categorical_crossentropy(y_true, y_pred, from_logits=True)\n",
    "        ),\n",
    "        metrics=[\n",
    "            tf.keras.metrics.SparseCategoricalAccuracy(name=\"accuracy\"),\n",
    "            tf.keras.metrics.SparseTopKCategoricalAccuracy(5, name=\"top_5_accuracy\"),\n",
    "        ],\n",
    "    )\n",
    "\n",
    "    # Save the best model during training\n",
    "    checkpoint_filepath = \"./tmp/checkpoint\"\n",
    "    checkpoint_callback = tf.keras.callbacks.ModelCheckpoint(\n",
    "        checkpoint_filepath,\n",
    "        monitor=\"val_accuracy\",\n",
    "        save_best_only=True,\n",
    "        save_weights_only=True\n",
    "    )\n",
    "\n",
    "    # Fit the model\n",
    "    history = model.fit(\n",
    "        x_train, y_train,\n",
    "        batch_size=batch_size,\n",
    "        epochs=num_epochs,\n",
    "        validation_split=0.1,\n",
    "        callbacks=[checkpoint_callback]\n",
    "    )\n",
    "\n",
    "    # Load the best weights and evaluate the model\n",
    "    model.load_weights(checkpoint_filepath)\n",
    "    accuracy, top_5_accuracy = model.evaluate(x_test, y_test)\n",
    "    print(accuracy, \"\\n\")\n",
    "    print(top_5_accuracy)\n"
   ]
  },
  {
   "cell_type": "code",
   "execution_count": 25,
   "id": "b5da38ab-fd56-4af8-aaac-4078bf4b0618",
   "metadata": {},
   "outputs": [],
   "source": [
    "import tensorflow as tf\n",
    "\n",
    "def run_program(model):\n",
    "    # Using TensorFlow's Adam optimizer\n",
    "    optimizer = tf.keras.optimizers.Adam(learning_rate=learning_rate)\n",
    "\n",
    "    # Manually adding weight decay to the loss function\n",
    "    def add_weight_decay_loss(loss):\n",
    "        weight_decay_loss = tf.add_n([tf.nn.l2_loss(v) for v in model.trainable_variables])\n",
    "        return loss + weight_decay * weight_decay_loss\n",
    "\n",
    "    # Compile the model using a custom loss function\n",
    "    model.compile(\n",
    "        optimizer=optimizer,\n",
    "        loss=lambda y_true, y_pred: add_weight_decay_loss(\n",
    "            tf.keras.losses.sparse_categorical_crossentropy(y_true, y_pred, from_logits=True)\n",
    "        ),\n",
    "        metrics=[\n",
    "            tf.keras.metrics.SparseCategoricalAccuracy(name=\"accuracy\"),\n",
    "            tf.keras.metrics.SparseTopKCategoricalAccuracy(5, name=\"top_5_accuracy\"),\n",
    "        ],\n",
    "    )\n",
    "\n",
    "    # Save the best model during training\n",
    "    checkpoint_filepath = \".weights.h5\"\n",
    "    checkpoint_callback = tf.keras.callbacks.ModelCheckpoint(\n",
    "        checkpoint_filepath,\n",
    "        monitor=\"val_accuracy\",\n",
    "        save_best_only=True,\n",
    "        save_weights_only=True\n",
    "    )\n",
    "\n",
    "    # Fit the model\n",
    "    history = model.fit(\n",
    "        x_train, y_train,\n",
    "        batch_size=batch_size,\n",
    "        epochs=num_epochs,\n",
    "        validation_split=0.1,\n",
    "        callbacks=[checkpoint_callback]\n",
    "    )\n",
    "\n",
    "    # Load the best weights and evaluate the model\n",
    "    model.load_weights(checkpoint_filepath)\n",
    "    accuracy, top_5_accuracy = model.evaluate(x_test, y_test)\n",
    "    print(accuracy, \"\\n\")\n",
    "    print(top_5_accuracy)\n",
    "\n"
   ]
  },
  {
   "cell_type": "code",
   "execution_count": null,
   "id": "382d745f-9cfa-4f2c-888b-e28c8543b4ee",
   "metadata": {},
   "outputs": [],
   "source": [
    "vit_classifier = ViT_classifier()\n",
    "history = run_program(vit_classifier)\n"
   ]
  }
 ],
 "metadata": {
  "kernelspec": {
   "display_name": "Python 3 (ipykernel)",
   "language": "python",
   "name": "python3"
  },
  "language_info": {
   "codemirror_mode": {
    "name": "ipython",
    "version": 3
   },
   "file_extension": ".py",
   "mimetype": "text/x-python",
   "name": "python",
   "nbconvert_exporter": "python",
   "pygments_lexer": "ipython3",
   "version": "3.12.4"
  }
 },
 "nbformat": 4,
 "nbformat_minor": 5
}
